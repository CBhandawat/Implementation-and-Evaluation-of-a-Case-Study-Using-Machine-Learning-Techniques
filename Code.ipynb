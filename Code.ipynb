{
 "cells": [
  {
   "cell_type": "code",
   "execution_count": 59,
   "metadata": {
    "id": "huUVaepkWdOn"
   },
   "outputs": [],
   "source": [
    "#STUDENT NUMBER : C22041684\n",
    "#NAME : CHETANYA BHANDAWAT\n",
    "\n",
    "import numpy as np\n",
    "import pandas as pd\n",
    "from sklearn.impute import SimpleImputer\n",
    "import matplotlib.pyplot as plt\n",
    "import seaborn as sns\n",
    "from sklearn.ensemble import RandomForestClassifier\n",
    "from sklearn.neighbors import KNeighborsClassifier\n",
    "from sklearn.tree import DecisionTreeClassifier\n",
    "from sklearn.metrics import precision_score,accuracy_score,recall_score,f1_score,confusion_matrix,classification_report\n",
    "from sklearn.model_selection import train_test_split\n",
    "from pandas._libs.algos import diff_2d\n",
    "from imblearn.over_sampling import SMOTE\n",
    "from sklearn.preprocessing import StandardScaler\n",
    "from sklearn.preprocessing import OneHotEncoder\n",
    "from pandas.plotting import scatter_matrix"
   ]
  },
  {
   "cell_type": "markdown",
   "metadata": {
    "id": "Twl6gbJBaq7r"
   },
   "source": [
    "# **DATA PREPROCESSING**"
   ]
  },
  {
   "cell_type": "markdown",
   "metadata": {
    "id": "cCLWz3lRVTUL"
   },
   "source": [
    "**Get Data**"
   ]
  },
  {
   "cell_type": "code",
   "execution_count": 4,
   "metadata": {
    "id": "bMmAHpqVIkmO"
   },
   "outputs": [],
   "source": [
    "df = pd.read_csv('CW1_data_202223.csv')\n",
    "\n",
    "pd.set_option('display.max_columns', None, 'max_colwidth', None, 'display.expand_frame_repr', False)"
   ]
  },
  {
   "cell_type": "code",
   "execution_count": 5,
   "metadata": {
    "colab": {
     "base_uri": "https://localhost:8080/"
    },
    "id": "RJZxK0Q8Vd8K",
    "outputId": "2ab5c95d-2a36-4268-9fc2-7ba56ce374b5"
   },
   "outputs": [
    {
     "name": "stdout",
     "output_type": "stream",
     "text": [
      "\n",
      "---Information of the Car Insurance dataset --- \n",
      "\n",
      "<class 'pandas.core.frame.DataFrame'>\n",
      "RangeIndex: 304887 entries, 0 to 304886\n",
      "Data columns (total 12 columns):\n",
      " #   Column             Non-Null Count   Dtype  \n",
      "---  ------             --------------   -----  \n",
      " 0   id                 304887 non-null  int64  \n",
      " 1   Gender             274460 non-null  object \n",
      " 2   Age                274339 non-null  float64\n",
      " 3   HasDrivingLicense  274399 non-null  float64\n",
      " 4   RegionID           274334 non-null  float64\n",
      " 5   Switch             152557 non-null  float64\n",
      " 6   VehicleAge         274446 non-null  object \n",
      " 7   PastAccident       152422 non-null  object \n",
      " 8   AnnualPremium      304887 non-null  object \n",
      " 9   SalesChannelID     304887 non-null  int64  \n",
      " 10  DaysSinceCreated   304887 non-null  int64  \n",
      " 11  Result             304887 non-null  int64  \n",
      "dtypes: float64(4), int64(4), object(4)\n",
      "memory usage: 27.9+ MB\n",
      "None\n",
      "\n",
      " ---Column names of the dataset --- \n",
      " Index(['id', 'Gender', 'Age', 'HasDrivingLicense', 'RegionID', 'Switch',\n",
      "       'VehicleAge', 'PastAccident', 'AnnualPremium', 'SalesChannelID',\n",
      "       'DaysSinceCreated', 'Result'],\n",
      "      dtype='object')\n"
     ]
    }
   ],
   "source": [
    "print('\\n---Information of the Car Insurance dataset --- \\n')\n",
    "print(df.info())\n",
    "print('\\n ---Column names of the dataset --- \\n', df.columns)"
   ]
  },
  {
   "cell_type": "code",
   "execution_count": 6,
   "metadata": {
    "colab": {
     "base_uri": "https://localhost:8080/"
    },
    "id": "KiatJ7qTVgir",
    "outputId": "e98ab8bb-50bb-4c20-d3e0-a102ec2faddf"
   },
   "outputs": [
    {
     "name": "stdout",
     "output_type": "stream",
     "text": [
      "\n",
      "Below is the first 5 lines of the dataset......\n",
      "        id  Gender   Age  HasDrivingLicense  RegionID  Switch VehicleAge PastAccident AnnualPremium  SalesChannelID  DaysSinceCreated  Result\n",
      "0  332804  Female  39.0                1.0      15.0     0.0   1-2 Year          NaN    £2,645.30               55               227       1\n",
      "1  116249    Male  38.0                1.0      11.0     NaN   1-2 Year          NaN    £1,151.90               26                29       0\n",
      "2  255006    Male  22.0                1.0      30.0     NaN   < 1 Year          NaN    £2,265.90              152               166       0\n",
      "3  317475  Female  23.0                1.0       NaN     NaN   < 1 Year          NaN    £1,456.60              151               277       0\n",
      "4  344213    Male  56.0                1.0      48.0     0.0  > 2 Years          NaN      £131.50              154               155       0\n"
     ]
    }
   ],
   "source": [
    "# Look at the first 5 lines of the dataset\n",
    "print('\\nBelow is the first 5 lines of the dataset......\\n', df.head(5))"
   ]
  },
  {
   "cell_type": "code",
   "execution_count": 7,
   "metadata": {
    "colab": {
     "base_uri": "https://localhost:8080/"
    },
    "id": "aOfD2B_rVizW",
    "outputId": "1ed684d1-c2e9-4ca5-bbac-37b46ccbfaa1"
   },
   "outputs": [
    {
     "name": "stdout",
     "output_type": "stream",
     "text": [
      "\n",
      "Below is the statistics of the dataset......\n",
      "\n",
      "                   id            Age  HasDrivingLicense       RegionID         Switch  SalesChannelID  DaysSinceCreated         Result\n",
      "count  304887.000000  274339.000000      274399.000000  274334.000000  152557.000000   304887.000000     304887.000000  304887.000000\n",
      "mean   190594.098072      38.832561           0.997853      26.408892       0.458281      111.966591        154.272609       0.121970\n",
      "std    110022.144283      15.504062           0.046281      13.213345       0.498258       54.230069         83.642389       0.327251\n",
      "min         1.000000      20.000000           0.000000       0.000000       0.000000        1.000000         10.000000       0.000000\n",
      "25%     95342.500000      25.000000           1.000000      15.000000       0.000000       26.000000         82.000000       0.000000\n",
      "50%    190639.000000      36.000000           1.000000      28.000000       0.000000      131.000000        154.000000       0.000000\n",
      "75%    285785.500000      49.000000           1.000000      35.000000       1.000000      152.000000        227.000000       0.000000\n",
      "max    381109.000000      85.000000           1.000000      52.000000       1.000000      163.000000        299.000000       1.000000\n"
     ]
    }
   ],
   "source": [
    "# Get the statistics of the dataset. Note it only show the results for features with neumerical values\n",
    "print('\\nBelow is the statistics of the dataset......\\n\\n', df.describe())"
   ]
  },
  {
   "cell_type": "code",
   "execution_count": 8,
   "metadata": {
    "colab": {
     "base_uri": "https://localhost:8080/"
    },
    "id": "IViYAT0KVk-a",
    "outputId": "a83c2919-90f8-4df2-8a49-8e79f3f3a709"
   },
   "outputs": [
    {
     "name": "stdout",
     "output_type": "stream",
     "text": [
      "The shape of the dataset is (304887, 12)\n"
     ]
    }
   ],
   "source": [
    "print('The shape of the dataset is', df.shape)"
   ]
  },
  {
   "cell_type": "markdown",
   "metadata": {
    "id": "9r6RqgTEVxie"
   },
   "source": [
    "**Removing Features that are not relevant to Modelling**"
   ]
  },
  {
   "cell_type": "code",
   "execution_count": 9,
   "metadata": {
    "colab": {
     "base_uri": "https://localhost:8080/"
    },
    "id": "GdqMx8vVIp6x",
    "outputId": "f007fb8a-e375-4bd3-9e25-c1a74672914a"
   },
   "outputs": [
    {
     "name": "stdout",
     "output_type": "stream",
     "text": [
      "   Gender   Age  HasDrivingLicense  RegionID  Switch VehicleAge PastAccident AnnualPremium  SalesChannelID  DaysSinceCreated  Result\n",
      "0  Female  39.0                1.0      15.0     0.0   1-2 Year          NaN    £2,645.30               55               227       1\n",
      "1    Male  38.0                1.0      11.0     NaN   1-2 Year          NaN    £1,151.90               26                29       0\n",
      "2    Male  22.0                1.0      30.0     NaN   < 1 Year          NaN    £2,265.90              152               166       0\n",
      "3  Female  23.0                1.0       NaN     NaN   < 1 Year          NaN    £1,456.60              151               277       0\n",
      "4    Male  56.0                1.0      48.0     0.0  > 2 Years          NaN      £131.50              154               155       0\n",
      "5    Male  30.0                1.0      18.0     NaN        NaN          NaN    £1,755.90              152                92       0\n",
      "6     NaN  48.0                1.0      28.0     0.0   1-2 Year          Yes    £2,517.05              124               188       0\n",
      "7    Male  20.0                1.0      37.0     0.0   < 1 Year          Yes    £2,365.30              160               220       0\n",
      "8  Female  23.0                1.0      47.0     0.0   < 1 Year           No      £131.50              152               163       0\n",
      "9     NaN  77.0                1.0       NaN     1.0   1-2 Year           No      £131.50                9               283       0\n"
     ]
    }
   ],
   "source": [
    "try:\n",
    "  df.drop(['id'], axis=1, inplace = True)\n",
    "except KeyError:\n",
    "  print('Attributes already removed')\n",
    "\n",
    "print(df.head(10))"
   ]
  },
  {
   "cell_type": "markdown",
   "metadata": {
    "id": "_AWQfKKjV_r7"
   },
   "source": [
    "**Dealing with Missing Values**"
   ]
  },
  {
   "cell_type": "code",
   "execution_count": 10,
   "metadata": {
    "colab": {
     "base_uri": "https://localhost:8080/"
    },
    "id": "FjS0oStVWU3E",
    "outputId": "75418757-5c74-4502-9ced-f93bb7caa346"
   },
   "outputs": [
    {
     "data": {
      "text/plain": [
       "Gender                30427\n",
       "Age                   30548\n",
       "HasDrivingLicense     30488\n",
       "RegionID              30553\n",
       "Switch               152330\n",
       "VehicleAge            30441\n",
       "PastAccident         152465\n",
       "AnnualPremium             0\n",
       "SalesChannelID            0\n",
       "DaysSinceCreated          0\n",
       "Result                    0\n",
       "dtype: int64"
      ]
     },
     "execution_count": 10,
     "metadata": {},
     "output_type": "execute_result"
    }
   ],
   "source": [
    "df.isna().sum()   "
   ]
  },
  {
   "cell_type": "markdown",
   "metadata": {
    "id": "VfxilpLxW3fd"
   },
   "source": [
    "**1. Get rid of the instances (data points) that contain missing values.**"
   ]
  },
  {
   "cell_type": "code",
   "execution_count": 11,
   "metadata": {
    "id": "zRbkTnecIrJx"
   },
   "outputs": [],
   "source": [
    "df2 = df.dropna(subset=['HasDrivingLicense', 'RegionID', 'VehicleAge']) # delete all instances that have missing values for the features of HasDrivingLicense, RegionID, and VehicleAge"
   ]
  },
  {
   "cell_type": "markdown",
   "metadata": {
    "id": "pu51ihdh1gVT"
   },
   "source": [
    "**2. Get rid of the whole attribute.**"
   ]
  },
  {
   "cell_type": "code",
   "execution_count": 12,
   "metadata": {
    "colab": {
     "base_uri": "https://localhost:8080/"
    },
    "id": "zr3vs_lsw8H8",
    "outputId": "a3a720e1-48db-4a4f-e472-f1003db631d0"
   },
   "outputs": [
    {
     "name": "stderr",
     "output_type": "stream",
     "text": [
      "C:\\Users\\c22041684\\AppData\\Local\\Temp\\ipykernel_24888\\3297725372.py:2: SettingWithCopyWarning: \n",
      "A value is trying to be set on a copy of a slice from a DataFrame\n",
      "\n",
      "See the caveats in the documentation: https://pandas.pydata.org/pandas-docs/stable/user_guide/indexing.html#returning-a-view-versus-a-copy\n",
      "  df2.drop(['Switch', 'PastAccident'], axis=1, inplace = True)\n"
     ]
    }
   ],
   "source": [
    "try:\n",
    "  df2.drop(['Switch', 'PastAccident'], axis=1, inplace = True)\n",
    "except KeyError:\n",
    "  print('Attributes already removed')"
   ]
  },
  {
   "cell_type": "markdown",
   "metadata": {
    "id": "-lOaWkKHXPoH"
   },
   "source": [
    "**3. Set the missing values to some value**"
   ]
  },
  {
   "cell_type": "code",
   "execution_count": 13,
   "metadata": {
    "colab": {
     "base_uri": "https://localhost:8080/"
    },
    "id": "jPhyYXXVXGrx",
    "outputId": "663f91af-0458-4b43-8a96-4735aec3a15d"
   },
   "outputs": [
    {
     "name": "stderr",
     "output_type": "stream",
     "text": [
      "C:\\Users\\c22041684\\AppData\\Local\\Temp\\ipykernel_24888\\3114856826.py:2: SettingWithCopyWarning: \n",
      "A value is trying to be set on a copy of a slice from a DataFrame\n",
      "\n",
      "See the caveats in the documentation: https://pandas.pydata.org/pandas-docs/stable/user_guide/indexing.html#returning-a-view-versus-a-copy\n",
      "  df2[\"Age\"].fillna(median, inplace=True)\n"
     ]
    }
   ],
   "source": [
    "median = df2[\"Age\"].median() \n",
    "df2[\"Age\"].fillna(median, inplace=True)"
   ]
  },
  {
   "cell_type": "markdown",
   "metadata": {
    "id": "fj_S90rpXaFl"
   },
   "source": [
    "**4. Use Imputation Methods**"
   ]
  },
  {
   "cell_type": "code",
   "execution_count": 14,
   "metadata": {
    "colab": {
     "base_uri": "https://localhost:8080/"
    },
    "id": "KmZmuiADXJ3G",
    "outputId": "a66aa046-e5b5-45ce-c46f-fd8de31c47dd"
   },
   "outputs": [
    {
     "name": "stderr",
     "output_type": "stream",
     "text": [
      "C:\\Users\\c22041684\\AppData\\Local\\Temp\\ipykernel_24888\\4198901738.py:2: SettingWithCopyWarning: \n",
      "A value is trying to be set on a copy of a slice from a DataFrame.\n",
      "Try using .loc[row_indexer,col_indexer] = value instead\n",
      "\n",
      "See the caveats in the documentation: https://pandas.pydata.org/pandas-docs/stable/user_guide/indexing.html#returning-a-view-versus-a-copy\n",
      "  df2.Gender = imputer.fit_transform(df2['Gender'].values.reshape(-1,1))[:,0]\n"
     ]
    }
   ],
   "source": [
    "imputer = SimpleImputer(strategy=\"most_frequent\")\n",
    "df2.Gender = imputer.fit_transform(df2['Gender'].values.reshape(-1,1))[:,0]\n"
   ]
  },
  {
   "cell_type": "code",
   "execution_count": 15,
   "metadata": {
    "colab": {
     "base_uri": "https://localhost:8080/"
    },
    "id": "95jJyIiD45rg",
    "outputId": "7bebe6d0-6e17-484e-cbd6-090cee3ebd99"
   },
   "outputs": [
    {
     "data": {
      "text/plain": [
       "Gender               0\n",
       "Age                  0\n",
       "HasDrivingLicense    0\n",
       "RegionID             0\n",
       "VehicleAge           0\n",
       "AnnualPremium        0\n",
       "SalesChannelID       0\n",
       "DaysSinceCreated     0\n",
       "Result               0\n",
       "dtype: int64"
      ]
     },
     "execution_count": 15,
     "metadata": {},
     "output_type": "execute_result"
    }
   ],
   "source": [
    "df2.isna().sum()"
   ]
  },
  {
   "cell_type": "markdown",
   "metadata": {
    "id": "FpYvplj3bgcx"
   },
   "source": [
    "**Looking For Outliers in Age and Removing them**"
   ]
  },
  {
   "cell_type": "code",
   "execution_count": 16,
   "metadata": {
    "colab": {
     "base_uri": "https://localhost:8080/",
     "height": 282
    },
    "id": "M3zE_LJSIz4w",
    "outputId": "2bdf1a62-8c03-4601-9d3e-d55ca220413c"
   },
   "outputs": [
    {
     "data": {
      "text/plain": [
       "<AxesSubplot: >"
      ]
     },
     "execution_count": 16,
     "metadata": {},
     "output_type": "execute_result"
    },
    {
     "data": {
      "image/png": "[encoded data removed]",
      "text/plain": [
       "<Figure size 432x288 with 1 Axes>"
      ]
     },
     "metadata": {
      "needs_background": "light"
     },
     "output_type": "display_data"
    }
   ],
   "source": [
    "# print(df2[['Age','HasDrivingLicense']].describe())\n",
    "df2[['Age','Result']].boxplot()"
   ]
  },
  {
   "cell_type": "code",
   "execution_count": 17,
   "metadata": {
    "colab": {
     "base_uri": "https://localhost:8080/"
    },
    "id": "c6alCDHjXB7U",
    "outputId": "81ca2a19-9c62-4ba3-c3fe-44e486636cf6"
   },
   "outputs": [
    {
     "name": "stdout",
     "output_type": "stream",
     "text": [
      "23.0 82.5 -9.5\n"
     ]
    }
   ],
   "source": [
    "# finding the 1st quartile\n",
    "q1 = np.quantile(df2.Age, 0.25)\n",
    " \n",
    "# finding the 3rd quartile\n",
    "q3 = np.quantile(df2.Age, 0.75)\n",
    "med = np.median(df2.Age)\n",
    " \n",
    "# finding the iqr region\n",
    "iqr = q3-q1\n",
    " \n",
    "# finding upper and lower whiskers\n",
    "upper_bound = q3+(1.5*iqr)\n",
    "lower_bound = q1-(1.5*iqr)\n",
    "print(iqr, upper_bound, lower_bound)"
   ]
  },
  {
   "cell_type": "code",
   "execution_count": 18,
   "metadata": {
    "colab": {
     "base_uri": "https://localhost:8080/"
    },
    "id": "duPklTzmXTkI",
    "outputId": "1e622f41-a56b-4e4a-e30d-e648045b6d69"
   },
   "outputs": [
    {
     "name": "stdout",
     "output_type": "stream",
     "text": [
      "The following are the outliers in the boxplot:18361     83.0\n",
      "40904     83.0\n",
      "41814     85.0\n",
      "48013     85.0\n",
      "55455     83.0\n",
      "63876     85.0\n",
      "111879    84.0\n",
      "114257    83.0\n",
      "123440    83.0\n",
      "184159    85.0\n",
      "191244    83.0\n",
      "202615    83.0\n",
      "238411    84.0\n",
      "258127    83.0\n",
      "259033    85.0\n",
      "274230    84.0\n",
      "289251    84.0\n",
      "Name: Age, dtype: float64\n"
     ]
    }
   ],
   "source": [
    "outliers = df2.Age[(df2.Age <= lower_bound) | (df2.Age >= upper_bound)]\n",
    "print('The following are the outliers in the boxplot:{}'.format(outliers))"
   ]
  },
  {
   "cell_type": "code",
   "execution_count": 20,
   "metadata": {
    "colab": {
     "base_uri": "https://localhost:8080/"
    },
    "id": "6SWn1VSP_2uK",
    "outputId": "c1051e43-35d4-4122-9762-c4dac08c8f83"
   },
   "outputs": [
    {
     "name": "stderr",
     "output_type": "stream",
     "text": [
      "C:\\Users\\c22041684\\AppData\\Local\\Temp\\ipykernel_24888\\3624783533.py:1: SettingWithCopyWarning: \n",
      "A value is trying to be set on a copy of a slice from a DataFrame\n",
      "\n",
      "See the caveats in the documentation: https://pandas.pydata.org/pandas-docs/stable/user_guide/indexing.html#returning-a-view-versus-a-copy\n",
      "  df2.drop(df2[df2['Age'] >= 83].index, inplace = True)\n"
     ]
    }
   ],
   "source": [
    "df2.drop(df2[df2['Age'] >= 83].index, inplace = True)"
   ]
  },
  {
   "cell_type": "markdown",
   "metadata": {
    "id": "_F0W-Zfnc-lK"
   },
   "source": [
    "**Converting AnnualPremium String Data Type to Float Data Type**"
   ]
  },
  {
   "cell_type": "code",
   "execution_count": 21,
   "metadata": {
    "colab": {
     "base_uri": "https://localhost:8080/",
     "height": 677
    },
    "id": "X8ujS4Fc6Bpw",
    "outputId": "ecb19fd9-1b41-4f9f-bb92-1a435134ee01"
   },
   "outputs": [
    {
     "name": "stderr",
     "output_type": "stream",
     "text": [
      "C:\\Users\\c22041684\\AppData\\Local\\Temp\\ipykernel_24888\\783103336.py:1: SettingWithCopyWarning: \n",
      "A value is trying to be set on a copy of a slice from a DataFrame.\n",
      "Try using .loc[row_indexer,col_indexer] = value instead\n",
      "\n",
      "See the caveats in the documentation: https://pandas.pydata.org/pandas-docs/stable/user_guide/indexing.html#returning-a-view-versus-a-copy\n",
      "  df2['AnnualPremium'] = df2['AnnualPremium'].str.replace('£', '')\n",
      "C:\\Users\\c22041684\\AppData\\Local\\Temp\\ipykernel_24888\\783103336.py:2: SettingWithCopyWarning: \n",
      "A value is trying to be set on a copy of a slice from a DataFrame.\n",
      "Try using .loc[row_indexer,col_indexer] = value instead\n",
      "\n",
      "See the caveats in the documentation: https://pandas.pydata.org/pandas-docs/stable/user_guide/indexing.html#returning-a-view-versus-a-copy\n",
      "  df2['AnnualPremium'] = df2['AnnualPremium'].replace(',','', regex=True)\n",
      "C:\\Users\\c22041684\\AppData\\Local\\Temp\\ipykernel_24888\\783103336.py:3: SettingWithCopyWarning: \n",
      "A value is trying to be set on a copy of a slice from a DataFrame.\n",
      "Try using .loc[row_indexer,col_indexer] = value instead\n",
      "\n",
      "See the caveats in the documentation: https://pandas.pydata.org/pandas-docs/stable/user_guide/indexing.html#returning-a-view-versus-a-copy\n",
      "  df2['AnnualPremium'] = df2['AnnualPremium'].astype(float)\n"
     ]
    },
    {
     "data": {
      "text/html": [
       "<div>\n",
       "<style scoped>\n",
       "    .dataframe tbody tr th:only-of-type {\n",
       "        vertical-align: middle;\n",
       "    }\n",
       "\n",
       "    .dataframe tbody tr th {\n",
       "        vertical-align: top;\n",
       "    }\n",
       "\n",
       "    .dataframe thead th {\n",
       "        text-align: right;\n",
       "    }\n",
       "</style>\n",
       "<table border=\"1\" class=\"dataframe\">\n",
       "  <thead>\n",
       "    <tr style=\"text-align: right;\">\n",
       "      <th></th>\n",
       "      <th>Age</th>\n",
       "      <th>HasDrivingLicense</th>\n",
       "      <th>RegionID</th>\n",
       "      <th>AnnualPremium</th>\n",
       "      <th>SalesChannelID</th>\n",
       "      <th>DaysSinceCreated</th>\n",
       "      <th>Result</th>\n",
       "    </tr>\n",
       "  </thead>\n",
       "  <tbody>\n",
       "    <tr>\n",
       "      <th>count</th>\n",
       "      <td>222108.000000</td>\n",
       "      <td>222108.000000</td>\n",
       "      <td>222108.000000</td>\n",
       "      <td>222108.000000</td>\n",
       "      <td>222108.000000</td>\n",
       "      <td>222108.000000</td>\n",
       "      <td>222108.000000</td>\n",
       "    </tr>\n",
       "    <tr>\n",
       "      <th>mean</th>\n",
       "      <td>38.553861</td>\n",
       "      <td>0.997848</td>\n",
       "      <td>26.406001</td>\n",
       "      <td>1529.141018</td>\n",
       "      <td>112.005083</td>\n",
       "      <td>154.254331</td>\n",
       "      <td>0.121508</td>\n",
       "    </tr>\n",
       "    <tr>\n",
       "      <th>std</th>\n",
       "      <td>14.729571</td>\n",
       "      <td>0.046341</td>\n",
       "      <td>13.208726</td>\n",
       "      <td>862.676544</td>\n",
       "      <td>54.200820</td>\n",
       "      <td>83.688841</td>\n",
       "      <td>0.326718</td>\n",
       "    </tr>\n",
       "    <tr>\n",
       "      <th>min</th>\n",
       "      <td>20.000000</td>\n",
       "      <td>0.000000</td>\n",
       "      <td>0.000000</td>\n",
       "      <td>131.500000</td>\n",
       "      <td>1.000000</td>\n",
       "      <td>10.000000</td>\n",
       "      <td>0.000000</td>\n",
       "    </tr>\n",
       "    <tr>\n",
       "      <th>25%</th>\n",
       "      <td>25.000000</td>\n",
       "      <td>1.000000</td>\n",
       "      <td>15.000000</td>\n",
       "      <td>1222.200000</td>\n",
       "      <td>29.000000</td>\n",
       "      <td>82.000000</td>\n",
       "      <td>0.000000</td>\n",
       "    </tr>\n",
       "    <tr>\n",
       "      <th>50%</th>\n",
       "      <td>36.000000</td>\n",
       "      <td>1.000000</td>\n",
       "      <td>28.000000</td>\n",
       "      <td>1583.600000</td>\n",
       "      <td>131.000000</td>\n",
       "      <td>154.000000</td>\n",
       "      <td>0.000000</td>\n",
       "    </tr>\n",
       "    <tr>\n",
       "      <th>75%</th>\n",
       "      <td>48.000000</td>\n",
       "      <td>1.000000</td>\n",
       "      <td>35.000000</td>\n",
       "      <td>1970.812500</td>\n",
       "      <td>152.000000</td>\n",
       "      <td>227.000000</td>\n",
       "      <td>0.000000</td>\n",
       "    </tr>\n",
       "    <tr>\n",
       "      <th>max</th>\n",
       "      <td>82.000000</td>\n",
       "      <td>1.000000</td>\n",
       "      <td>52.000000</td>\n",
       "      <td>27008.250000</td>\n",
       "      <td>163.000000</td>\n",
       "      <td>299.000000</td>\n",
       "      <td>1.000000</td>\n",
       "    </tr>\n",
       "  </tbody>\n",
       "</table>\n",
       "</div>"
      ],
      "text/plain": [
       "                 Age  HasDrivingLicense       RegionID  AnnualPremium  SalesChannelID  DaysSinceCreated         Result\n",
       "count  222108.000000      222108.000000  222108.000000  222108.000000   222108.000000     222108.000000  222108.000000\n",
       "mean       38.553861           0.997848      26.406001    1529.141018      112.005083        154.254331       0.121508\n",
       "std        14.729571           0.046341      13.208726     862.676544       54.200820         83.688841       0.326718\n",
       "min        20.000000           0.000000       0.000000     131.500000        1.000000         10.000000       0.000000\n",
       "25%        25.000000           1.000000      15.000000    1222.200000       29.000000         82.000000       0.000000\n",
       "50%        36.000000           1.000000      28.000000    1583.600000      131.000000        154.000000       0.000000\n",
       "75%        48.000000           1.000000      35.000000    1970.812500      152.000000        227.000000       0.000000\n",
       "max        82.000000           1.000000      52.000000   27008.250000      163.000000        299.000000       1.000000"
      ]
     },
     "execution_count": 21,
     "metadata": {},
     "output_type": "execute_result"
    }
   ],
   "source": [
    "df2['AnnualPremium'] = df2['AnnualPremium'].str.replace('£', '')\n",
    "df2['AnnualPremium'] = df2['AnnualPremium'].replace(',','', regex=True)\n",
    "df2['AnnualPremium'] = df2['AnnualPremium'].astype(float)\n",
    "df2.describe()"
   ]
  },
  {
   "cell_type": "markdown",
   "metadata": {
    "id": "gIQzoy3ydS_P"
   },
   "source": [
    "**Feature Scaling(Standardization(z-score))**"
   ]
  },
  {
   "cell_type": "code",
   "execution_count": 22,
   "metadata": {
    "colab": {
     "base_uri": "https://localhost:8080/",
     "height": 791
    },
    "id": "2qQIl364hpL2",
    "outputId": "1e88a669-885b-4322-b37a-1e7addbc63fd"
   },
   "outputs": [
    {
     "name": "stderr",
     "output_type": "stream",
     "text": [
      "C:\\Users\\c22041684\\AppData\\Local\\Temp\\ipykernel_24888\\1468476425.py:2: SettingWithCopyWarning: \n",
      "A value is trying to be set on a copy of a slice from a DataFrame.\n",
      "Try using .loc[row_indexer,col_indexer] = value instead\n",
      "\n",
      "See the caveats in the documentation: https://pandas.pydata.org/pandas-docs/stable/user_guide/indexing.html#returning-a-view-versus-a-copy\n",
      "  df2['Age'] = standard_scale.fit_transform(df2[['Age']])\n",
      "C:\\Users\\c22041684\\AppData\\Local\\Temp\\ipykernel_24888\\1468476425.py:3: SettingWithCopyWarning: \n",
      "A value is trying to be set on a copy of a slice from a DataFrame.\n",
      "Try using .loc[row_indexer,col_indexer] = value instead\n",
      "\n",
      "See the caveats in the documentation: https://pandas.pydata.org/pandas-docs/stable/user_guide/indexing.html#returning-a-view-versus-a-copy\n",
      "  df2['AnnualPremium'] = standard_scale.fit_transform(df2[['AnnualPremium']])\n",
      "C:\\Users\\c22041684\\AppData\\Local\\Temp\\ipykernel_24888\\1468476425.py:4: SettingWithCopyWarning: \n",
      "A value is trying to be set on a copy of a slice from a DataFrame.\n",
      "Try using .loc[row_indexer,col_indexer] = value instead\n",
      "\n",
      "See the caveats in the documentation: https://pandas.pydata.org/pandas-docs/stable/user_guide/indexing.html#returning-a-view-versus-a-copy\n",
      "  df2['DaysSinceCreated'] = standard_scale.fit_transform(df2[['DaysSinceCreated']])\n",
      "C:\\Users\\c22041684\\AppData\\Local\\Temp\\ipykernel_24888\\1468476425.py:5: SettingWithCopyWarning: \n",
      "A value is trying to be set on a copy of a slice from a DataFrame.\n",
      "Try using .loc[row_indexer,col_indexer] = value instead\n",
      "\n",
      "See the caveats in the documentation: https://pandas.pydata.org/pandas-docs/stable/user_guide/indexing.html#returning-a-view-versus-a-copy\n",
      "  df2['RegionID'] = standard_scale.fit_transform(df2[['RegionID']])\n",
      "C:\\Users\\c22041684\\AppData\\Local\\Temp\\ipykernel_24888\\1468476425.py:6: SettingWithCopyWarning: \n",
      "A value is trying to be set on a copy of a slice from a DataFrame.\n",
      "Try using .loc[row_indexer,col_indexer] = value instead\n",
      "\n",
      "See the caveats in the documentation: https://pandas.pydata.org/pandas-docs/stable/user_guide/indexing.html#returning-a-view-versus-a-copy\n",
      "  df2['SalesChannelID'] = standard_scale.fit_transform(df2[['SalesChannelID']])\n"
     ]
    },
    {
     "data": {
      "text/html": [
       "<div>\n",
       "<style scoped>\n",
       "    .dataframe tbody tr th:only-of-type {\n",
       "        vertical-align: middle;\n",
       "    }\n",
       "\n",
       "    .dataframe tbody tr th {\n",
       "        vertical-align: top;\n",
       "    }\n",
       "\n",
       "    .dataframe thead th {\n",
       "        text-align: right;\n",
       "    }\n",
       "</style>\n",
       "<table border=\"1\" class=\"dataframe\">\n",
       "  <thead>\n",
       "    <tr style=\"text-align: right;\">\n",
       "      <th></th>\n",
       "      <th>Gender</th>\n",
       "      <th>Age</th>\n",
       "      <th>HasDrivingLicense</th>\n",
       "      <th>RegionID</th>\n",
       "      <th>VehicleAge</th>\n",
       "      <th>AnnualPremium</th>\n",
       "      <th>SalesChannelID</th>\n",
       "      <th>DaysSinceCreated</th>\n",
       "      <th>Result</th>\n",
       "    </tr>\n",
       "  </thead>\n",
       "  <tbody>\n",
       "    <tr>\n",
       "      <th>0</th>\n",
       "      <td>Female</td>\n",
       "      <td>0.030289</td>\n",
       "      <td>1.0</td>\n",
       "      <td>-0.863522</td>\n",
       "      <td>1-2 Year</td>\n",
       "      <td>1.293835</td>\n",
       "      <td>-1.051741</td>\n",
       "      <td>0.869242</td>\n",
       "      <td>1</td>\n",
       "    </tr>\n",
       "    <tr>\n",
       "      <th>1</th>\n",
       "      <td>Male</td>\n",
       "      <td>-0.037602</td>\n",
       "      <td>1.0</td>\n",
       "      <td>-1.166353</td>\n",
       "      <td>1-2 Year</td>\n",
       "      <td>-0.437292</td>\n",
       "      <td>-1.586789</td>\n",
       "      <td>-1.496670</td>\n",
       "      <td>0</td>\n",
       "    </tr>\n",
       "    <tr>\n",
       "      <th>2</th>\n",
       "      <td>Male</td>\n",
       "      <td>-1.123855</td>\n",
       "      <td>1.0</td>\n",
       "      <td>0.272093</td>\n",
       "      <td>&lt; 1 Year</td>\n",
       "      <td>0.854040</td>\n",
       "      <td>0.737904</td>\n",
       "      <td>0.140350</td>\n",
       "      <td>0</td>\n",
       "    </tr>\n",
       "    <tr>\n",
       "      <th>4</th>\n",
       "      <td>Male</td>\n",
       "      <td>1.184432</td>\n",
       "      <td>1.0</td>\n",
       "      <td>1.634832</td>\n",
       "      <td>&gt; 2 Years</td>\n",
       "      <td>-1.620125</td>\n",
       "      <td>0.774804</td>\n",
       "      <td>0.008910</td>\n",
       "      <td>0</td>\n",
       "    </tr>\n",
       "    <tr>\n",
       "      <th>6</th>\n",
       "      <td>Male</td>\n",
       "      <td>0.641306</td>\n",
       "      <td>1.0</td>\n",
       "      <td>0.120678</td>\n",
       "      <td>1-2 Year</td>\n",
       "      <td>1.145170</td>\n",
       "      <td>0.221306</td>\n",
       "      <td>0.403229</td>\n",
       "      <td>0</td>\n",
       "    </tr>\n",
       "  </tbody>\n",
       "</table>\n",
       "</div>"
      ],
      "text/plain": [
       "   Gender       Age  HasDrivingLicense  RegionID VehicleAge  AnnualPremium  SalesChannelID  DaysSinceCreated  Result\n",
       "0  Female  0.030289                1.0 -0.863522   1-2 Year       1.293835       -1.051741          0.869242       1\n",
       "1    Male -0.037602                1.0 -1.166353   1-2 Year      -0.437292       -1.586789         -1.496670       0\n",
       "2    Male -1.123855                1.0  0.272093   < 1 Year       0.854040        0.737904          0.140350       0\n",
       "4    Male  1.184432                1.0  1.634832  > 2 Years      -1.620125        0.774804          0.008910       0\n",
       "6    Male  0.641306                1.0  0.120678   1-2 Year       1.145170        0.221306          0.403229       0"
      ]
     },
     "execution_count": 22,
     "metadata": {},
     "output_type": "execute_result"
    }
   ],
   "source": [
    "standard_scale = StandardScaler()   # to default 0 mean and 1 standard deviation\n",
    "df2['Age'] = standard_scale.fit_transform(df2[['Age']])\n",
    "df2['AnnualPremium'] = standard_scale.fit_transform(df2[['AnnualPremium']])\n",
    "df2['DaysSinceCreated'] = standard_scale.fit_transform(df2[['DaysSinceCreated']])\n",
    "df2['RegionID'] = standard_scale.fit_transform(df2[['RegionID']])\n",
    "df2['SalesChannelID'] = standard_scale.fit_transform(df2[['SalesChannelID']])\n",
    "df2.head()"
   ]
  },
  {
   "cell_type": "markdown",
   "metadata": {
    "id": "t1I7y_y-dk0H"
   },
   "source": [
    "**ENCODING CATEGORICAL FEATURES**\n",
    "\n",
    "**One Hot Encoding**"
   ]
  },
  {
   "cell_type": "code",
   "execution_count": 23,
   "metadata": {
    "colab": {
     "base_uri": "https://localhost:8080/"
    },
    "id": "TXZGlQIiEjef",
    "outputId": "a7b1fad9-cf52-47e8-cb2e-a73559febc36"
   },
   "outputs": [
    {
     "name": "stdout",
     "output_type": "stream",
     "text": [
      "\n",
      "---The original data---\n",
      "    Gender VehicleAge\n",
      "0  Female   1-2 Year\n",
      "1    Male   1-2 Year\n",
      "2    Male   < 1 Year\n",
      "4    Male  > 2 Years\n",
      "6    Male   1-2 Year\n",
      "\n",
      " [array(['Female', 'Male'], dtype=object), array(['1-2 Year', '< 1 Year', '> 2 Years'], dtype=object)]\n"
     ]
    },
    {
     "name": "stderr",
     "output_type": "stream",
     "text": [
      "C:\\Users\\c22041684\\AppData\\Roaming\\Python\\Python310\\site-packages\\sklearn\\preprocessing\\_encoders.py:808: FutureWarning: `sparse` was renamed to `sparse_output` in version 1.2 and will be removed in 1.4. `sparse_output` is ignored unless you leave `sparse` to its default value.\n",
      "  warnings.warn(\n"
     ]
    },
    {
     "name": "stdout",
     "output_type": "stream",
     "text": [
      "\n",
      "---The data after one hot encoding---\n",
      "    Female  Male  1-2 Year  < 1 Year  > 2 Years\n",
      "0     1.0   0.0       1.0       0.0        0.0\n",
      "1     0.0   1.0       1.0       0.0        0.0\n",
      "2     0.0   1.0       0.0       1.0        0.0\n",
      "3     0.0   1.0       0.0       0.0        1.0\n",
      "4     0.0   1.0       1.0       0.0        0.0\n"
     ]
    }
   ],
   "source": [
    "df4 = df2[['Gender', 'VehicleAge']].dropna()\n",
    "#print(titanic1.info())\n",
    "print('\\n---The original data---\\n', df4.head())\n",
    "\n",
    "enc = OneHotEncoder(sparse=False, handle_unknown='ignore')\n",
    "enc.fit(df4)\n",
    "\n",
    "print('\\n', enc.categories_)\n",
    "\n",
    "df6 = pd.DataFrame(enc.transform(df4))\n",
    "df6.columns = np.concatenate(enc.categories_).ravel().tolist()\n",
    "print('\\n---The data after one hot encoding---\\n', df6.head(5))"
   ]
  },
  {
   "cell_type": "markdown",
   "metadata": {
    "id": "WrUuunicd7eh"
   },
   "source": [
    "**Merging the DataFrames to One**"
   ]
  },
  {
   "cell_type": "code",
   "execution_count": 24,
   "metadata": {
    "colab": {
     "base_uri": "https://localhost:8080/",
     "height": 287
    },
    "id": "mSUEYXAyHtlz",
    "outputId": "808b94b2-3ba6-44d7-cd4a-f4fb09358a3c"
   },
   "outputs": [
    {
     "data": {
      "text/html": [
       "<div>\n",
       "<style scoped>\n",
       "    .dataframe tbody tr th:only-of-type {\n",
       "        vertical-align: middle;\n",
       "    }\n",
       "\n",
       "    .dataframe tbody tr th {\n",
       "        vertical-align: top;\n",
       "    }\n",
       "\n",
       "    .dataframe thead th {\n",
       "        text-align: right;\n",
       "    }\n",
       "</style>\n",
       "<table border=\"1\" class=\"dataframe\">\n",
       "  <thead>\n",
       "    <tr style=\"text-align: right;\">\n",
       "      <th></th>\n",
       "      <th>Female</th>\n",
       "      <th>Male</th>\n",
       "      <th>1-2 Year</th>\n",
       "      <th>&lt; 1 Year</th>\n",
       "      <th>&gt; 2 Years</th>\n",
       "      <th>Age</th>\n",
       "      <th>AnnualPremium</th>\n",
       "      <th>HasDrivingLicense</th>\n",
       "      <th>DaysSinceCreated</th>\n",
       "      <th>RegionID</th>\n",
       "      <th>SalesChannelID</th>\n",
       "      <th>Result</th>\n",
       "    </tr>\n",
       "  </thead>\n",
       "  <tbody>\n",
       "    <tr>\n",
       "      <th>0</th>\n",
       "      <td>1.0</td>\n",
       "      <td>0.0</td>\n",
       "      <td>1.0</td>\n",
       "      <td>0.0</td>\n",
       "      <td>0.0</td>\n",
       "      <td>0.030289</td>\n",
       "      <td>1.293835</td>\n",
       "      <td>1.0</td>\n",
       "      <td>0.869242</td>\n",
       "      <td>-0.863522</td>\n",
       "      <td>-1.051741</td>\n",
       "      <td>1</td>\n",
       "    </tr>\n",
       "    <tr>\n",
       "      <th>1</th>\n",
       "      <td>0.0</td>\n",
       "      <td>1.0</td>\n",
       "      <td>1.0</td>\n",
       "      <td>0.0</td>\n",
       "      <td>0.0</td>\n",
       "      <td>-0.037602</td>\n",
       "      <td>-0.437292</td>\n",
       "      <td>1.0</td>\n",
       "      <td>-1.496670</td>\n",
       "      <td>-1.166353</td>\n",
       "      <td>-1.586789</td>\n",
       "      <td>0</td>\n",
       "    </tr>\n",
       "    <tr>\n",
       "      <th>2</th>\n",
       "      <td>0.0</td>\n",
       "      <td>1.0</td>\n",
       "      <td>0.0</td>\n",
       "      <td>1.0</td>\n",
       "      <td>0.0</td>\n",
       "      <td>-1.123855</td>\n",
       "      <td>0.854040</td>\n",
       "      <td>1.0</td>\n",
       "      <td>0.140350</td>\n",
       "      <td>0.272093</td>\n",
       "      <td>0.737904</td>\n",
       "      <td>0</td>\n",
       "    </tr>\n",
       "    <tr>\n",
       "      <th>4</th>\n",
       "      <td>0.0</td>\n",
       "      <td>1.0</td>\n",
       "      <td>0.0</td>\n",
       "      <td>0.0</td>\n",
       "      <td>1.0</td>\n",
       "      <td>1.184432</td>\n",
       "      <td>-1.620125</td>\n",
       "      <td>1.0</td>\n",
       "      <td>0.008910</td>\n",
       "      <td>1.634832</td>\n",
       "      <td>0.774804</td>\n",
       "      <td>0</td>\n",
       "    </tr>\n",
       "    <tr>\n",
       "      <th>6</th>\n",
       "      <td>0.0</td>\n",
       "      <td>1.0</td>\n",
       "      <td>1.0</td>\n",
       "      <td>0.0</td>\n",
       "      <td>0.0</td>\n",
       "      <td>0.641306</td>\n",
       "      <td>1.145170</td>\n",
       "      <td>1.0</td>\n",
       "      <td>0.403229</td>\n",
       "      <td>0.120678</td>\n",
       "      <td>0.221306</td>\n",
       "      <td>0</td>\n",
       "    </tr>\n",
       "  </tbody>\n",
       "</table>\n",
       "</div>"
      ],
      "text/plain": [
       "   Female  Male  1-2 Year  < 1 Year  > 2 Years       Age  AnnualPremium  HasDrivingLicense  DaysSinceCreated  RegionID  SalesChannelID  Result\n",
       "0     1.0   0.0       1.0       0.0        0.0  0.030289       1.293835                1.0          0.869242 -0.863522       -1.051741       1\n",
       "1     0.0   1.0       1.0       0.0        0.0 -0.037602      -0.437292                1.0         -1.496670 -1.166353       -1.586789       0\n",
       "2     0.0   1.0       0.0       1.0        0.0 -1.123855       0.854040                1.0          0.140350  0.272093        0.737904       0\n",
       "4     0.0   1.0       0.0       0.0        1.0  1.184432      -1.620125                1.0          0.008910  1.634832        0.774804       0\n",
       "6     0.0   1.0       1.0       0.0        0.0  0.641306       1.145170                1.0          0.403229  0.120678        0.221306       0"
      ]
     },
     "execution_count": 24,
     "metadata": {},
     "output_type": "execute_result"
    }
   ],
   "source": [
    "df5 = df2[['Age','AnnualPremium','HasDrivingLicense','DaysSinceCreated','RegionID','SalesChannelID','Result']].dropna()\n",
    "df6.set_index(df5.index,inplace=True)\n",
    "df6 = pd.concat([df6,df5], axis=1)\n",
    "\n",
    "df6.head()\n"
   ]
  },
  {
   "cell_type": "markdown",
   "metadata": {
    "id": "VWtpbC_ZY8v0"
   },
   "source": [
    "# **DATA EXPLORATION**"
   ]
  },
  {
   "cell_type": "markdown",
   "metadata": {
    "id": "ypWaEyTDeD8t"
   },
   "source": [
    "**Correlation**"
   ]
  },
  {
   "cell_type": "code",
   "execution_count": 28,
   "metadata": {
    "colab": {
     "base_uri": "https://localhost:8080/",
     "height": 889
    },
    "id": "HD4K6lU4YAG8",
    "outputId": "ead74796-958a-4d96-c2dc-d88a5fa7b525"
   },
   "outputs": [
    {
     "name": "stdout",
     "output_type": "stream",
     "text": [
      "                     Female      Male  1-2 Year  < 1 Year  > 2 Years       Age  AnnualPremium  HasDrivingLicense  DaysSinceCreated  RegionID  SalesChannelID    Result\n",
      "Female             1.000000 -1.000000 -0.136667  0.153793  -0.039678 -0.126974      -0.002693           0.017431          0.002907 -0.001735        0.103892 -0.048771\n",
      "Male              -1.000000  1.000000  0.136667 -0.153793   0.039678  0.126974       0.002693          -0.017431         -0.002907  0.001735       -0.103892  0.048771\n",
      "1-2 Year          -0.136667  0.136667  1.000000 -0.919069  -0.220154  0.657013      -0.003104          -0.038608         -0.004415  0.038068       -0.508793  0.163092\n",
      "< 1 Year           0.153793 -0.153793 -0.919069  1.000000  -0.182090 -0.746357      -0.022186           0.040491          0.003172 -0.044620        0.571467 -0.208774\n",
      "> 2 Years         -0.039678  0.039678 -0.220154 -0.182090   1.000000  0.208110       0.062661          -0.003895          0.003164  0.015464       -0.145037  0.109836\n",
      "Age               -0.126974  0.126974  0.657013 -0.746357   0.208110  1.000000       0.064238          -0.077637         -0.002701  0.039704       -0.544997  0.106695\n",
      "AnnualPremium     -0.002693  0.002693 -0.003104 -0.022186   0.062661  0.064238       1.000000          -0.014726         -0.001883 -0.009238       -0.113607  0.022785\n",
      "HasDrivingLicense  0.017431 -0.017431 -0.038608  0.040491  -0.003895 -0.077637      -0.014726           1.000000         -0.001310 -0.001956        0.042975  0.010135\n",
      "DaysSinceCreated   0.002907 -0.002907 -0.004415  0.003172   0.003164 -0.002701      -0.001883          -0.001310          1.000000 -0.003941        0.000867 -0.001398\n",
      "RegionID          -0.001735  0.001735  0.038068 -0.044620   0.015464  0.039704      -0.009238          -0.001956         -0.003941  1.000000       -0.041650  0.011953\n",
      "SalesChannelID     0.103892 -0.103892 -0.508793  0.571467  -0.145037 -0.544997      -0.113607           0.042975          0.000867 -0.041650        1.000000 -0.139644\n",
      "Result            -0.048771  0.048771  0.163092 -0.208774   0.109836  0.106695       0.022785           0.010135         -0.001398  0.011953       -0.139644  1.000000\n"
     ]
    },
    {
     "data": {
      "text/plain": [
       "<AxesSubplot: >"
      ]
     },
     "execution_count": 28,
     "metadata": {},
     "output_type": "execute_result"
    },
    {
     "data": {
      "image/png": "[encoded data removed]",
      "text/plain": [
       "<Figure size 1000x1000 with 2 Axes>"
      ]
     },
     "metadata": {},
     "output_type": "display_data"
    }
   ],
   "source": [
    "corr_matrix = df6.corr()\n",
    "print(corr_matrix)\n",
    "\n",
    "plt.figure(figsize=(10,10))\n",
    "sns.heatmap(corr_matrix, vmax=0.9, square=True, annot=True, linewidths=0.3, cmap=\"YlGnBu\", fmt=\".1f\")"
   ]
  },
  {
   "cell_type": "code",
   "execution_count": 29,
   "metadata": {
    "colab": {
     "base_uri": "https://localhost:8080/",
     "height": 279
    },
    "id": "kRaS_FtbZOQ0",
    "outputId": "0775b95e-95e3-4aaf-f4d9-5d0d471fec26"
   },
   "outputs": [
    {
     "data": {
      "text/plain": [
       "<AxesSubplot: >"
      ]
     },
     "execution_count": 29,
     "metadata": {},
     "output_type": "execute_result"
    },
    {
     "data": {
      "image/png": "[encoded data removed]",
      "text/plain": [
       "<Figure size 640x480 with 1 Axes>"
      ]
     },
     "metadata": {},
     "output_type": "display_data"
    }
   ],
   "source": [
    "df['Result'].value_counts().plot(kind='bar')"
   ]
  },
  {
   "cell_type": "code",
   "execution_count": 30,
   "metadata": {
    "colab": {
     "base_uri": "https://localhost:8080/"
    },
    "id": "gCgNgOHLZcuD",
    "outputId": "f55be35a-61ba-4e97-f027-661ce46fa286"
   },
   "outputs": [
    {
     "name": "stdout",
     "output_type": "stream",
     "text": [
      "The percentage of positive result is:  12 %\n"
     ]
    }
   ],
   "source": [
    "count_1 = df2[df2['Result']==1].value_counts().sum()\n",
    "totalResult = df2['Result'].value_counts().sum()\n",
    "print(\"The percentage of positive result is: \",round(count_1*100/totalResult),\"%\")"
   ]
  },
  {
   "cell_type": "code",
   "execution_count": 31,
   "metadata": {
    "colab": {
     "base_uri": "https://localhost:8080/",
     "height": 318
    },
    "id": "gTMP5iBzWOGQ",
    "outputId": "1c4934e1-f63f-4a28-a245-628b005a31fa"
   },
   "outputs": [
    {
     "data": {
      "text/plain": [
       "Text(0, 0.5, 'Frequency of Interest')"
      ]
     },
     "execution_count": 31,
     "metadata": {},
     "output_type": "execute_result"
    },
    {
     "data": {
      "image/png": "[encoded data removed]",
      "text/plain": [
       "<Figure size 432x288 with 1 Axes>"
      ]
     },
     "metadata": {
      "needs_background": "light"
     },
     "output_type": "display_data"
    }
   ],
   "source": [
    "%matplotlib inline\n",
    "table = pd.crosstab(df6['1-2 Year'],df6['Result'])\n",
    "table.div(table.sum(1).astype(float), axis=0).plot(kind='bar', stacked=True)\n",
    "plt.title('Interest Frequency for 1-2 Year Vehicle Age')\n",
    "plt.xlabel('1-2 Year Vehicle Age')\n",
    "plt.ylabel('Frequency of Interest')\n"
   ]
  },
  {
   "cell_type": "code",
   "execution_count": 32,
   "metadata": {
    "colab": {
     "base_uri": "https://localhost:8080/",
     "height": 318
    },
    "id": "4JZ2j_OSgHMi",
    "outputId": "7c9612ad-bcad-4fce-bbf1-95425177bbc6"
   },
   "outputs": [
    {
     "data": {
      "text/plain": [
       "Text(0, 0.5, 'Frequency of Interest')"
      ]
     },
     "execution_count": 32,
     "metadata": {},
     "output_type": "execute_result"
    },
    {
     "data": {
      "image/png": "[encoded data removed]",
      "text/plain": [
       "<Figure size 432x288 with 1 Axes>"
      ]
     },
     "metadata": {
      "needs_background": "light"
     },
     "output_type": "display_data"
    }
   ],
   "source": [
    "%matplotlib inline\n",
    "table = pd.crosstab(df6['< 1 Year'],df6['Result'])\n",
    "table.div(table.sum(1).astype(float), axis=0).plot(kind='bar', stacked=True)\n",
    "plt.title('Interest Frequency for < 1 Year Vehicle Age')\n",
    "plt.xlabel('< 1 Year Vehicle Age')\n",
    "plt.ylabel('Frequency of Interest')"
   ]
  },
  {
   "cell_type": "code",
   "execution_count": 33,
   "metadata": {
    "colab": {
     "base_uri": "https://localhost:8080/",
     "height": 318
    },
    "id": "uDreRTQsgL2c",
    "outputId": "68907a9e-9b50-4c62-80ff-86a22bb3a457"
   },
   "outputs": [
    {
     "data": {
      "text/plain": [
       "Text(0, 0.5, 'Frequency of Interest')"
      ]
     },
     "execution_count": 33,
     "metadata": {},
     "output_type": "execute_result"
    },
    {
     "data": {
      "image/png": "[encoded data removed]",
      "text/plain": [
       "<Figure size 432x288 with 1 Axes>"
      ]
     },
     "metadata": {
      "needs_background": "light"
     },
     "output_type": "display_data"
    }
   ],
   "source": [
    "%matplotlib inline\n",
    "table = pd.crosstab(df6['> 2 Years'],df6['Result'])\n",
    "table.div(table.sum(1).astype(float), axis=0).plot(kind='bar', stacked=True)\n",
    "plt.title('Interest Frequency for greater than 2 Years Vehicle Age')\n",
    "plt.xlabel('> 2 Year Vehicle Age')\n",
    "plt.ylabel('Frequency of Interest')"
   ]
  },
  {
   "cell_type": "code",
   "execution_count": 34,
   "metadata": {
    "colab": {
     "base_uri": "https://localhost:8080/",
     "height": 318
    },
    "id": "wU2V2G13gZzX",
    "outputId": "62df19fc-d915-43fe-8678-c7287adb45ad"
   },
   "outputs": [
    {
     "data": {
      "text/plain": [
       "Text(0, 0.5, 'Frequency of Interest')"
      ]
     },
     "execution_count": 34,
     "metadata": {},
     "output_type": "execute_result"
    },
    {
     "data": {
      "image/png": "[encoded data removed]",
      "text/plain": [
       "<Figure size 432x288 with 1 Axes>"
      ]
     },
     "metadata": {
      "needs_background": "light"
     },
     "output_type": "display_data"
    }
   ],
   "source": [
    "%matplotlib inline\n",
    "table = pd.crosstab(df6['HasDrivingLicense'],df6['Result'])\n",
    "table.div(table.sum(1).astype(float), axis=0).plot(kind='bar', stacked=True)\n",
    "plt.title('Interest Frequency for who is having Driving License')\n",
    "plt.xlabel('1-2 Year Vehicle Age')\n",
    "plt.ylabel('Frequency of Interest')"
   ]
  },
  {
   "cell_type": "markdown",
   "metadata": {
    "id": "0BYP8vAFZgyD"
   },
   "source": [
    "# **MODEL IMPLEMENTATION AND PERFORMANCE EVALUATION**"
   ]
  },
  {
   "cell_type": "markdown",
   "metadata": {
    "id": "usAE9x1peLcK"
   },
   "source": [
    "**Splitting the Data to Traning and Testing Data and Balancing the data using SMOTE**"
   ]
  },
  {
   "cell_type": "code",
   "execution_count": 35,
   "metadata": {
    "id": "QzeCNzuo_I2_"
   },
   "outputs": [],
   "source": [
    "X=df6.drop('Result', axis=1)\n",
    "y=df6['Result']\n",
    "X_train, X_test, y_train, y_test = train_test_split(X,y,test_size=0.3, random_state=1)\n",
    "sm = SMOTE(random_state=42)\n",
    "X_res,y_res = sm.fit_resample(X_train,y_train)"
   ]
  },
  {
   "cell_type": "markdown",
   "metadata": {
    "id": "kmWRk_0Fvqbx"
   },
   "source": [
    "**DECISION TREE**"
   ]
  },
  {
   "cell_type": "code",
   "execution_count": 36,
   "metadata": {
    "id": "r6t5G6TDwpby"
   },
   "outputs": [],
   "source": [
    "DT = DecisionTreeClassifier(random_state = 100,max_depth=3, min_samples_leaf=5)\n",
    "DT_predict = DT.fit(X_res,y_res).predict(X_test)"
   ]
  },
  {
   "cell_type": "code",
   "execution_count": 37,
   "metadata": {
    "colab": {
     "base_uri": "https://localhost:8080/",
     "height": 87
    },
    "id": "OcgDs9hNyMSs",
    "outputId": "7ed0442f-24d6-4231-9455-0a5949eee09e"
   },
   "outputs": [
    {
     "data": {
      "text/plain": [
       "'              precision    recall  f1-score   support\\n\\n           0       0.96      0.55      0.70     58585\\n           1       0.20      0.81      0.32      8048\\n\\n    accuracy                           0.59     66633\\n   macro avg       0.58      0.68      0.51     66633\\nweighted avg       0.86      0.59      0.66     66633\\n'"
      ]
     },
     "execution_count": 37,
     "metadata": {},
     "output_type": "execute_result"
    }
   ],
   "source": [
    "classification_report(y_test, DT_predict)"
   ]
  },
  {
   "cell_type": "code",
   "execution_count": 38,
   "metadata": {
    "colab": {
     "base_uri": "https://localhost:8080/"
    },
    "id": "UKqR2F89xlP4",
    "outputId": "72775fcf-a036-431a-806d-b2b24f29ec44"
   },
   "outputs": [
    {
     "data": {
      "text/plain": [
       "array([[32462, 26123],\n",
       "       [ 1509,  6539]], dtype=int64)"
      ]
     },
     "execution_count": 38,
     "metadata": {},
     "output_type": "execute_result"
    }
   ],
   "source": [
    "confusion_matrix(y_test, DT_predict)"
   ]
  },
  {
   "cell_type": "code",
   "execution_count": 39,
   "metadata": {
    "colab": {
     "base_uri": "https://localhost:8080/"
    },
    "id": "ZiuAWfkQxgb1",
    "outputId": "5ca35fb4-9a20-4848-8f9e-e26da8f1db4d"
   },
   "outputs": [
    {
     "data": {
      "text/plain": [
       "0.5853105818438311"
      ]
     },
     "execution_count": 39,
     "metadata": {},
     "output_type": "execute_result"
    }
   ],
   "source": [
    "accuracy_score(y_test, DT_predict)"
   ]
  },
  {
   "cell_type": "code",
   "execution_count": 40,
   "metadata": {
    "colab": {
     "base_uri": "https://localhost:8080/"
    },
    "id": "_I30DgmmxnK6",
    "outputId": "2a807d3c-3353-410b-f008-2572224d4a2a"
   },
   "outputs": [
    {
     "data": {
      "text/plain": [
       "0.8125"
      ]
     },
     "execution_count": 40,
     "metadata": {},
     "output_type": "execute_result"
    }
   ],
   "source": [
    "recall_score(y_test, DT_predict)"
   ]
  },
  {
   "cell_type": "code",
   "execution_count": 41,
   "metadata": {
    "colab": {
     "base_uri": "https://localhost:8080/"
    },
    "id": "IcRx2iDKxvir",
    "outputId": "456ff202-09e7-478e-dfc9-a13206b2c92f"
   },
   "outputs": [
    {
     "data": {
      "text/plain": [
       "0.20020206968342416"
      ]
     },
     "execution_count": 41,
     "metadata": {},
     "output_type": "execute_result"
    }
   ],
   "source": [
    "precision_score(y_test, DT_predict)"
   ]
  },
  {
   "cell_type": "code",
   "execution_count": 42,
   "metadata": {
    "colab": {
     "base_uri": "https://localhost:8080/"
    },
    "id": "SbBuB22xxzYI",
    "outputId": "c5775489-ff09-4b0f-822f-bca47882afdb"
   },
   "outputs": [
    {
     "data": {
      "text/plain": [
       "0.3212478506509457"
      ]
     },
     "execution_count": 42,
     "metadata": {},
     "output_type": "execute_result"
    }
   ],
   "source": [
    "f1_score(y_test, DT_predict)"
   ]
  },
  {
   "cell_type": "markdown",
   "metadata": {
    "id": "G7eMJRZGavh4"
   },
   "source": [
    "**K-NEAREST NEIGHBORS**"
   ]
  },
  {
   "cell_type": "code",
   "execution_count": 43,
   "metadata": {
    "id": "bACWQjpqSGOZ"
   },
   "outputs": [],
   "source": [
    "KNN = KNeighborsClassifier(n_neighbors=11, metric='minkowski',p=2)\n",
    "KNN_predictions = KNN.fit(X_res,y_res).predict(X_test)"
   ]
  },
  {
   "cell_type": "code",
   "execution_count": 44,
   "metadata": {
    "colab": {
     "base_uri": "https://localhost:8080/",
     "height": 87
    },
    "id": "vEbjGjp0pj5j",
    "outputId": "83bc4d61-77d0-4b5d-d2b3-9a100d749271"
   },
   "outputs": [
    {
     "data": {
      "text/plain": [
       "'              precision    recall  f1-score   support\\n\\n           0       0.92      0.66      0.77     58585\\n           1       0.19      0.58      0.28      8048\\n\\n    accuracy                           0.65     66633\\n   macro avg       0.55      0.62      0.53     66633\\nweighted avg       0.83      0.65      0.71     66633\\n'"
      ]
     },
     "execution_count": 44,
     "metadata": {},
     "output_type": "execute_result"
    }
   ],
   "source": [
    "classification_report(y_test, KNN_predictions)"
   ]
  },
  {
   "cell_type": "code",
   "execution_count": 45,
   "metadata": {
    "colab": {
     "base_uri": "https://localhost:8080/"
    },
    "id": "Ovz7ujj0AQ0f",
    "outputId": "6f4a9031-71b3-4248-a34c-fed1cd1c28e6"
   },
   "outputs": [
    {
     "data": {
      "text/plain": [
       "array([[38608, 19977],\n",
       "       [ 3413,  4635]], dtype=int64)"
      ]
     },
     "execution_count": 45,
     "metadata": {},
     "output_type": "execute_result"
    }
   ],
   "source": [
    "confusion_matrix(y_test, KNN_predictions)"
   ]
  },
  {
   "cell_type": "code",
   "execution_count": 46,
   "metadata": {
    "colab": {
     "base_uri": "https://localhost:8080/"
    },
    "id": "dGqFYcIjr3W5",
    "outputId": "99a7fc5c-64b8-4424-ab95-8b297d78cd44"
   },
   "outputs": [
    {
     "data": {
      "text/plain": [
       "0.6489727312292708"
      ]
     },
     "execution_count": 46,
     "metadata": {},
     "output_type": "execute_result"
    }
   ],
   "source": [
    "accuracy_score(y_test, KNN_predictions)"
   ]
  },
  {
   "cell_type": "code",
   "execution_count": 47,
   "metadata": {
    "colab": {
     "base_uri": "https://localhost:8080/"
    },
    "id": "qRq0xZeJH7eW",
    "outputId": "f179b067-96c3-49f4-ad63-0e40339ecb84"
   },
   "outputs": [
    {
     "data": {
      "text/plain": [
       "0.5759194831013916"
      ]
     },
     "execution_count": 47,
     "metadata": {},
     "output_type": "execute_result"
    }
   ],
   "source": [
    "recall_score(y_test, KNN_predictions)"
   ]
  },
  {
   "cell_type": "code",
   "execution_count": 48,
   "metadata": {
    "colab": {
     "base_uri": "https://localhost:8080/"
    },
    "id": "rAbceDxR9G7_",
    "outputId": "1ff6a133-0710-4eb1-a251-98fbb558b7b0"
   },
   "outputs": [
    {
     "data": {
      "text/plain": [
       "0.18832276938078985"
      ]
     },
     "execution_count": 48,
     "metadata": {},
     "output_type": "execute_result"
    }
   ],
   "source": [
    "precision_score(y_test, KNN_predictions)"
   ]
  },
  {
   "cell_type": "code",
   "execution_count": 49,
   "metadata": {
    "colab": {
     "base_uri": "https://localhost:8080/"
    },
    "id": "ud3OdlYuHeKG",
    "outputId": "1735c9f5-0ea4-468f-c5a7-7dc059374066"
   },
   "outputs": [
    {
     "data": {
      "text/plain": [
       "0.2838334353949786"
      ]
     },
     "execution_count": 49,
     "metadata": {},
     "output_type": "execute_result"
    }
   ],
   "source": [
    "f1_score(y_test, KNN_predictions)"
   ]
  },
  {
   "cell_type": "markdown",
   "metadata": {
    "id": "2XgHeEhGtei6"
   },
   "source": [
    "**Random Forest**"
   ]
  },
  {
   "cell_type": "code",
   "execution_count": 51,
   "metadata": {
    "id": "kPXYKppNtiVi"
   },
   "outputs": [],
   "source": [
    "RF = RandomForestClassifier(random_state=1)\n",
    "RF_predict = RF.fit(X_res, y_res).predict(X_test)"
   ]
  },
  {
   "cell_type": "code",
   "execution_count": 52,
   "metadata": {
    "colab": {
     "base_uri": "https://localhost:8080/",
     "height": 87
    },
    "id": "Y2CpbNqByQsb",
    "outputId": "304d3da3-a157-4874-c968-55284a8ce107"
   },
   "outputs": [
    {
     "data": {
      "text/plain": [
       "'              precision    recall  f1-score   support\\n\\n           0       0.90      0.91      0.90     58585\\n           1       0.26      0.22      0.24      8048\\n\\n    accuracy                           0.83     66633\\n   macro avg       0.58      0.57      0.57     66633\\nweighted avg       0.82      0.83      0.82     66633\\n'"
      ]
     },
     "execution_count": 52,
     "metadata": {},
     "output_type": "execute_result"
    }
   ],
   "source": [
    "classification_report(y_test, RF_predict)"
   ]
  },
  {
   "cell_type": "code",
   "execution_count": 53,
   "metadata": {
    "colab": {
     "base_uri": "https://localhost:8080/"
    },
    "id": "RqY2VUjKt32_",
    "outputId": "6a0d5684-79e8-4a61-8614-239f9bc073f7"
   },
   "outputs": [
    {
     "data": {
      "text/plain": [
       "array([[53461,  5124],\n",
       "       [ 6257,  1791]], dtype=int64)"
      ]
     },
     "execution_count": 53,
     "metadata": {},
     "output_type": "execute_result"
    }
   ],
   "source": [
    "confusion_matrix(y_test,RF_predict)"
   ]
  },
  {
   "cell_type": "code",
   "execution_count": 54,
   "metadata": {
    "colab": {
     "base_uri": "https://localhost:8080/"
    },
    "id": "KP7t5A-huQnI",
    "outputId": "fc4d48f1-49d3-4590-f4ed-860c9a9374ff"
   },
   "outputs": [
    {
     "data": {
      "text/plain": [
       "0.82919874536641"
      ]
     },
     "execution_count": 54,
     "metadata": {},
     "output_type": "execute_result"
    }
   ],
   "source": [
    "accuracy_score(y_test,RF_predict)"
   ]
  },
  {
   "cell_type": "code",
   "execution_count": 55,
   "metadata": {
    "colab": {
     "base_uri": "https://localhost:8080/"
    },
    "id": "F1gDYk21urVs",
    "outputId": "f72fee78-921b-4b59-eede-b49240464d02"
   },
   "outputs": [
    {
     "data": {
      "text/plain": [
       "0.22253976143141152"
      ]
     },
     "execution_count": 55,
     "metadata": {},
     "output_type": "execute_result"
    }
   ],
   "source": [
    "recall_score(y_test,RF_predict)"
   ]
  },
  {
   "cell_type": "code",
   "execution_count": 56,
   "metadata": {
    "colab": {
     "base_uri": "https://localhost:8080/"
    },
    "id": "o41WJi_fuwD1",
    "outputId": "062cd17f-2121-4efc-f66d-92234b47e42c"
   },
   "outputs": [
    {
     "data": {
      "text/plain": [
       "0.25900216919739694"
      ]
     },
     "execution_count": 56,
     "metadata": {},
     "output_type": "execute_result"
    }
   ],
   "source": [
    "precision_score(y_test,RF_predict)"
   ]
  },
  {
   "cell_type": "code",
   "execution_count": 57,
   "metadata": {
    "colab": {
     "base_uri": "https://localhost:8080/"
    },
    "id": "5HlpXsP_u1b3",
    "outputId": "8d946063-c5cd-4d88-8dab-3a4793df205b"
   },
   "outputs": [
    {
     "data": {
      "text/plain": [
       "0.23939049655817682"
      ]
     },
     "execution_count": 57,
     "metadata": {},
     "output_type": "execute_result"
    }
   ],
   "source": [
    "f1_score(y_test,RF_predict)"
   ]
  }
 ],
 "metadata": {
  "colab": {
   "provenance": []
  },
  "kernelspec": {
   "display_name": "Python 3 (ipykernel)",
   "language": "python",
   "name": "python3"
  },
  "language_info": {
   "codemirror_mode": {
    "name": "ipython",
    "version": 3
   },
   "file_extension": ".py",
   "mimetype": "text/x-python",
   "name": "python",
   "nbconvert_exporter": "python",
   "pygments_lexer": "ipython3",
   "version": "3.10.4"
  }
 },
 "nbformat": 4,
 "nbformat_minor": 4
}
